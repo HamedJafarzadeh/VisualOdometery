{
 "cells": [
  {
   "cell_type": "code",
   "execution_count": 23,
   "metadata": {
    "scrolled": true
   },
   "outputs": [
    {
     "name": "stdout",
     "output_type": "stream",
     "text": [
      "hello world\n",
      "[[2 0 9 0 1 2 1 5 8 3]\n",
      " [4 9 3 9 3 3 4 0 9 0]\n",
      " [4 2 7 3 7 7 6 3 0 1]\n",
      " [7 0 1 3 5 8 5 4 2 2]\n",
      " [5 3 6 1 1 7 6 3 6 0]\n",
      " [8 7 2 4 4 0 8 0 1 0]\n",
      " [0 1 8 8 9 5 5 3 4 3]\n",
      " [0 7 0 7 8 7 6 1 6 0]\n",
      " [0 9 7 2 1 8 5 4 3 3]\n",
      " [6 7 4 8 7 6 1 8 2 2]]\n",
      "[[2 0 9 0 1 2 1 5 8 3]\n",
      " [4 9 3 0 3 3 4 0 9 0]\n",
      " [4 2 7 0 7 7 6 3 0 1]\n",
      " [7 0 1 0 5 8 5 4 2 2]\n",
      " [5 3 6 0 1 7 6 3 6 0]\n",
      " [8 7 2 0 4 0 8 0 1 0]\n",
      " [0 1 8 0 9 5 5 3 4 3]\n",
      " [0 7 0 0 8 7 6 1 6 0]\n",
      " [0 9 7 0 1 8 5 4 3 3]\n",
      " [6 7 4 0 7 6 1 8 2 2]]\n"
     ]
    }
   ],
   "source": [
    "import numpy as np\n",
    "from matplotlib import pyplot as plt\n",
    "print (\"hello world\")\n",
    "randomvar = np.random.randint(10,size=(10,10))\n",
    "print(randomvar)\n",
    "test = randomvar.copy();\n",
    "i = 0\n",
    "test[0:10,3] = i\n",
    "print (test)"
   ]
  },
  {
   "cell_type": "markdown",
   "metadata": {},
   "source": [
    "test[:,3] = 100\n",
    "print (test)"
   ]
  },
  {
   "cell_type": "markdown",
   "metadata": {},
   "source": [
    "test = randomvar"
   ]
  },
  {
   "cell_type": "code",
   "execution_count": 6,
   "metadata": {},
   "outputs": [
    {
     "name": "stdout",
     "output_type": "stream",
     "text": [
      "[[  5   4   7 100   6   9   0   5   4   5]\n",
      " [  8   9   6 100   3   1   1   3   3   9]\n",
      " [  5   1   3 100   7   3   6   6   1   9]\n",
      " [  3   0   1 100   6   9   4   7   0   3]\n",
      " [  7   4   0 100   5   3   7   9   9   5]\n",
      " [  0   3   3 100   9   0   1   4   7   6]\n",
      " [  2   0   3 100   9   1   9   4   9   4]\n",
      " [  9   9   4 100   6   0   4   9   5   2]\n",
      " [  1   5   3 100   2   6   3   3   8   9]\n",
      " [  7   9   9 100   9   1   3   3   6   4]]\n"
     ]
    }
   ],
   "source": []
  }
 ],
 "metadata": {
  "kernelspec": {
   "display_name": "Python 3",
   "language": "python",
   "name": "python3"
  },
  "language_info": {
   "codemirror_mode": {
    "name": "ipython",
    "version": 3
   },
   "file_extension": ".py",
   "mimetype": "text/x-python",
   "name": "python",
   "nbconvert_exporter": "python",
   "pygments_lexer": "ipython3",
   "version": "3.5.2"
  }
 },
 "nbformat": 4,
 "nbformat_minor": 2
}
