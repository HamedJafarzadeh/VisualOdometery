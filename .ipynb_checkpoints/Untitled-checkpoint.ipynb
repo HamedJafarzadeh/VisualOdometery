{
 "cells": [
  {
   "cell_type": "code",
   "execution_count": 105,
   "metadata": {
    "scrolled": true
   },
   "outputs": [
    {
     "name": "stdout",
     "output_type": "stream",
     "text": [
      "hello world\n",
      "[[0 5 5 4 0 9 5 9 8 1]\n",
      " [3 2 6 3 6 7 2 0 0 4]\n",
      " [6 7 5 2 4 6 8 4 7 1]\n",
      " [9 3 2 7 2 6 8 8 9 2]\n",
      " [7 6 2 9 4 8 3 6 5 4]\n",
      " [6 3 7 6 2 2 5 3 0 2]\n",
      " [0 4 5 9 9 5 5 8 1 5]\n",
      " [1 3 2 7 8 4 8 0 4 3]\n",
      " [4 2 3 6 3 3 9 6 3 2]\n",
      " [3 0 9 5 0 2 7 4 1 9]]\n"
     ]
    }
   ],
   "source": [
    "import numpy as np\n",
    "from matplotlib import pyplot as plt\n",
    "print (\"hello world\")\n",
    "randomvar = np.random.randint(10,size=(10,10))\n",
    "print(randomvar)"
   ]
  },
  {
   "cell_type": "markdown",
   "metadata": {},
   "source": [
    "test[:,3] = 100\n",
    "print (test)"
   ]
  },
  {
   "cell_type": "markdown",
   "metadata": {},
   "source": [
    "test = randomvar"
   ]
  },
  {
   "cell_type": "code",
   "execution_count": 118,
   "metadata": {},
   "outputs": [
    {
     "name": "stdout",
     "output_type": "stream",
     "text": [
      "[[  0   5 100   4   0   9   5   9   8   1]\n",
      " [  3   2 100   3   6   7   2   0   0   4]\n",
      " [  6   7 100   2   4   6   8   4   7   1]\n",
      " [  9   3 100   7   2   6   8   8   9   2]\n",
      " [  7   6 100   9   4   8   3   6   5   4]\n",
      " [  6   3 100   6   2   2   5   3   0   2]\n",
      " [  0   4 100   9   9   5   5   8   1   5]\n",
      " [  1   3 100   7   8   4   8   0   4   3]\n",
      " [  4   2 100   6   3   3   9   6   3   2]\n",
      " [  3   0 100   5   0   2   7   4   1   9]]\n"
     ]
    }
   ],
   "source": [
    "test = randomvar\n",
    "test[4:5,2] = 100\n",
    "print (test)"
   ]
  }
 ],
 "metadata": {
  "kernelspec": {
   "display_name": "Python 3",
   "language": "python",
   "name": "python3"
  },
  "language_info": {
   "codemirror_mode": {
    "name": "ipython",
    "version": 3
   },
   "file_extension": ".py",
   "mimetype": "text/x-python",
   "name": "python",
   "nbconvert_exporter": "python",
   "pygments_lexer": "ipython3",
   "version": "3.5.2"
  }
 },
 "nbformat": 4,
 "nbformat_minor": 2
}
